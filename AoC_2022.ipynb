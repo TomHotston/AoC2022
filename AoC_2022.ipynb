{
 "cells": [
  {
   "cell_type": "markdown",
   "id": "3329d08e-8636-400e-83db-56f6499be83b",
   "metadata": {},
   "source": [
    "# Advent of Code 2022"
   ]
  },
  {
   "cell_type": "markdown",
   "id": "8eb8750c-3d4f-4906-8312-a50a1ab8591c",
   "metadata": {},
   "source": [
    "## Day 1"
   ]
  },
  {
   "cell_type": "code",
   "execution_count": 2,
   "id": "098836d0-09f8-440c-9717-5c0a53a9bff3",
   "metadata": {},
   "outputs": [],
   "source": [
    "use std::fs;\n",
    "\n",
    "#[derive(Debug, Eq, Ord, PartialEq, PartialOrd)]\n",
    "struct Elf {\n",
    "    calories: u32,\n",
    "}\n",
    "\n",
    "impl Elf {\n",
    "    fn new(snacks_str: &str) -> Self {\n",
    "        let snacks = snacks_str.lines().filter_map(|s| s.parse::<u32>().ok()).collect::<Vec<_>>();\n",
    "        Self {\n",
    "            calories: snacks.iter().sum::<u32>(),\n",
    "        }\n",
    "    }\n",
    "}\n",
    "    \n",
    "fn elves_from_file(path: &str) -> Vec<Elf> {\n",
    "    let file_str = fs::read_to_string(path).expect(\"failed to read\");\n",
    "    let elves_strs = file_str.split(\"\\n\\n\");\n",
    "    elves_strs.map(|e| Elf::new(e)).collect::<Vec<_>>()\n",
    "}"
   ]
  },
  {
   "cell_type": "code",
   "execution_count": 3,
   "id": "74991910-358d-4caa-86cd-e6b3e3e579bc",
   "metadata": {},
   "outputs": [
    {
     "data": {
      "text/plain": [
       "69289"
      ]
     },
     "execution_count": 3,
     "metadata": {},
     "output_type": "execute_result"
    }
   ],
   "source": [
    "// Part 1\n",
    "elves_from_file(\"day1_input.txt\").iter().max().unwrap().calories"
   ]
  },
  {
   "cell_type": "code",
   "execution_count": 4,
   "id": "61414f4c-e221-4d61-8a5f-4467b62c5d33",
   "metadata": {},
   "outputs": [
    {
     "data": {
      "text/plain": [
       "205615"
      ]
     },
     "execution_count": 4,
     "metadata": {},
     "output_type": "execute_result"
    }
   ],
   "source": [
    "// Part 2\n",
    "let mut elves = elves_from_file(\"day1_input.txt\");\n",
    "elves.sort();\n",
    "elves.reverse();\n",
    "elves[..3].iter().map(|e| e.calories).sum::<u32>()"
   ]
  },
  {
   "cell_type": "markdown",
   "id": "39274821-2489-43e7-bd09-4baefa8c7f42",
   "metadata": {},
   "source": [
    "## Day 2"
   ]
  },
  {
   "cell_type": "code",
   "execution_count": 50,
   "id": "4799cef8-ecee-4106-a203-b3305306fa85",
   "metadata": {},
   "outputs": [],
   "source": [
    "use std::fs;\n",
    "\n",
    "enum RoundResult {\n",
    "    Loss,\n",
    "    Draw,\n",
    "    Win,\n",
    "}\n",
    "\n",
    "impl RoundResult {\n",
    "    fn value(&self) -> u32 {\n",
    "        match *self {\n",
    "            RoundResult::Loss => 0,\n",
    "            RoundResult::Draw => 3,\n",
    "            RoundResult::Win => 6,\n",
    "        }\n",
    "    }\n",
    "}\n",
    "\n",
    "enum Draw {\n",
    "    Rock,\n",
    "    Paper,\n",
    "    Scissors,\n",
    "}\n",
    "\n",
    "impl Draw {\n",
    "    fn new(draw: &str) -> Self {\n",
    "        match draw {\n",
    "            \"A\" => Draw::Rock,\n",
    "            \"B\" => Draw::Paper,\n",
    "            \"C\" => Draw::Scissors,\n",
    "            \"X\" => Draw::Rock,\n",
    "            \"Y\" => Draw::Paper,\n",
    "            \"Z\" => Draw::Scissors,\n",
    "            _ => panic!(\"invalid draw\"),\n",
    "        }\n",
    "    }\n",
    "    \n",
    "    fn value(&self) -> u32 {\n",
    "        match *self {\n",
    "            Draw::Rock => 1,\n",
    "            Draw::Paper => 2,\n",
    "            Draw::Scissors => 3,\n",
    "        }\n",
    "    }\n",
    "}\n",
    "\n",
    "struct Round {\n",
    "    opponent: Draw,\n",
    "    my: Draw,\n",
    "}\n",
    "\n",
    "impl Round {\n",
    "    fn new(round_str: &str) -> Self {\n",
    "        let mut player_str = round_str.split(\" \");\n",
    "        let opponent_str = player_str.next().expect(\"Failed to get opponent from string\");\n",
    "        let my_str = player_str.next().expect(\"Failed to get myself from string\");\n",
    "        \n",
    "        Self {\n",
    "            opponent: Draw::new(opponent_str),\n",
    "            my: Draw::new(my_str),\n",
    "        }\n",
    "    }\n",
    "    \n",
    "    fn determine_result(&self) -> RoundResult {\n",
    "        match self.my {\n",
    "            Draw::Rock => match self.opponent {\n",
    "                Draw::Rock => RoundResult::Draw,\n",
    "                Draw::Paper => RoundResult::Loss,\n",
    "                Draw::Scissors => RoundResult::Win,\n",
    "            }\n",
    "            Draw::Paper => match self.opponent {\n",
    "                Draw::Rock => RoundResult::Win,\n",
    "                Draw::Paper => RoundResult::Draw,\n",
    "                Draw::Scissors => RoundResult::Loss,\n",
    "            }\n",
    "            Draw::Scissors => match self.opponent {\n",
    "                Draw::Rock => RoundResult::Loss,\n",
    "                Draw::Paper => RoundResult::Win,\n",
    "                Draw::Scissors => RoundResult::Draw,\n",
    "            }\n",
    "        }\n",
    "    }\n",
    "    \n",
    "    fn follow_elf_guide(&self) -> u32 {\n",
    "        let result = match self.my {\n",
    "                Draw::Rock => RoundResult::Loss,     //X\n",
    "                Draw::Paper => RoundResult::Draw,    //Y\n",
    "                Draw::Scissors => RoundResult::Win,  //Z\n",
    "        };\n",
    "        let draw = match self.opponent {\n",
    "            Draw::Rock => match result {\n",
    "                RoundResult::Loss => Draw::Scissors,\n",
    "                RoundResult::Draw => Draw::Rock,\n",
    "                RoundResult::Win => Draw::Paper,\n",
    "            },\n",
    "            Draw::Paper => match result {\n",
    "                RoundResult::Loss => Draw::Rock,\n",
    "                RoundResult::Draw => Draw::Paper,\n",
    "                RoundResult::Win => Draw::Scissors,\n",
    "            },\n",
    "            Draw::Scissors => match result {\n",
    "                RoundResult::Loss => Draw::Paper,\n",
    "                RoundResult::Draw => Draw::Scissors,\n",
    "                RoundResult::Win => Draw::Rock,\n",
    "            },\n",
    "        };\n",
    "        result.value() + draw.value()\n",
    "    }\n",
    "    \n",
    "    fn points(&self) -> u32 {\n",
    "        self.my.value() + self.determine_result().value()\n",
    "    }\n",
    "}\n",
    "\n",
    "fn rounds_from_file(path: &str) -> Vec<Round> {\n",
    "    let file_str = fs::read_to_string(path).expect(\"failed to read\");\n",
    "    let rounds_str = file_str.lines();\n",
    "    rounds_str.map(|r| Round::new(r)).collect::<Vec<_>>()\n",
    "}"
   ]
  },
  {
   "cell_type": "code",
   "execution_count": 55,
   "id": "bf8b5a24-00c1-41d8-972a-22b103ad0d3b",
   "metadata": {},
   "outputs": [
    {
     "data": {
      "text/plain": [
       "10404"
      ]
     },
     "execution_count": 55,
     "metadata": {},
     "output_type": "execute_result"
    }
   ],
   "source": [
    "// Part 1\n",
    "rounds_from_file(\"day2_input.txt\").iter().map(|r| r.points()).sum::<u32>()"
   ]
  },
  {
   "cell_type": "code",
   "execution_count": 56,
   "id": "245fc461-b577-4396-879a-04e4e0a0b334",
   "metadata": {},
   "outputs": [
    {
     "data": {
      "text/plain": [
       "10334"
      ]
     },
     "execution_count": 56,
     "metadata": {},
     "output_type": "execute_result"
    }
   ],
   "source": [
    "// Part 2\n",
    "rounds_from_file(\"day2_input.txt\").iter().map(|r| r.follow_elf_guide()).sum::<u32>()"
   ]
  }
 ],
 "metadata": {
  "kernelspec": {
   "display_name": "Rust",
   "language": "rust",
   "name": "rust"
  },
  "language_info": {
   "codemirror_mode": "rust",
   "file_extension": ".rs",
   "mimetype": "text/rust",
   "name": "Rust",
   "pygment_lexer": "rust",
   "version": ""
  }
 },
 "nbformat": 4,
 "nbformat_minor": 5
}
