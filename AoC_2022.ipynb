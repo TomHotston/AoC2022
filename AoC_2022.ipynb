{
 "cells": [
  {
   "cell_type": "markdown",
   "id": "3329d08e-8636-400e-83db-56f6499be83b",
   "metadata": {},
   "source": [
    "# Advent of Code 2022"
   ]
  },
  {
   "cell_type": "markdown",
   "id": "8eb8750c-3d4f-4906-8312-a50a1ab8591c",
   "metadata": {},
   "source": [
    "## Day 1"
   ]
  },
  {
   "cell_type": "code",
   "execution_count": 2,
   "id": "098836d0-09f8-440c-9717-5c0a53a9bff3",
   "metadata": {},
   "outputs": [],
   "source": [
    "use std::fs;\n",
    "\n",
    "#[derive(Debug, Eq, Ord, PartialEq, PartialOrd)]\n",
    "struct Elf {\n",
    "    calories: u32,\n",
    "}\n",
    "\n",
    "impl Elf {\n",
    "    fn new(snacks_str: &str) -> Elf {\n",
    "        let snacks = snacks_str.split('\\n').filter_map(|s| s.parse::<u32>().ok()).collect::<Vec<_>>();\n",
    "        Elf {\n",
    "            calories: snacks.iter().sum::<u32>(),\n",
    "        }\n",
    "    }\n",
    "}\n",
    "    \n",
    "fn elves_from_file(path: &str) -> Vec<Elf> {\n",
    "    let file_str = fs::read_to_string(path).expect(\"failed to read\");\n",
    "    let elves_strs = file_str.split(\"\\n\\n\");\n",
    "    elves_strs.map(|e| Elf::new(e)).collect::<Vec<_>>()\n",
    "}"
   ]
  },
  {
   "cell_type": "code",
   "execution_count": 3,
   "id": "74991910-358d-4caa-86cd-e6b3e3e579bc",
   "metadata": {},
   "outputs": [
    {
     "data": {
      "text/plain": [
       "69289"
      ]
     },
     "execution_count": 3,
     "metadata": {},
     "output_type": "execute_result"
    }
   ],
   "source": [
    "// Part 1\n",
    "elves_from_file(\"day1_input.txt\").iter().max().unwrap().calories"
   ]
  },
  {
   "cell_type": "code",
   "execution_count": 4,
   "id": "61414f4c-e221-4d61-8a5f-4467b62c5d33",
   "metadata": {},
   "outputs": [
    {
     "data": {
      "text/plain": [
       "205615"
      ]
     },
     "execution_count": 4,
     "metadata": {},
     "output_type": "execute_result"
    }
   ],
   "source": [
    "// Part 2\n",
    "let mut elves = elves_from_file(\"day1_input.txt\");\n",
    "elves.sort();\n",
    "elves.reverse();\n",
    "elves[..3].iter().map(|e| e.calories).sum::<u32>()"
   ]
  },
  {
   "cell_type": "code",
   "execution_count": null,
   "id": "2d241358-e50b-448d-82d4-c7e354d60130",
   "metadata": {},
   "outputs": [],
   "source": []
  }
 ],
 "metadata": {
  "kernelspec": {
   "display_name": "Rust",
   "language": "rust",
   "name": "rust"
  },
  "language_info": {
   "codemirror_mode": "rust",
   "file_extension": ".rs",
   "mimetype": "text/rust",
   "name": "Rust",
   "pygment_lexer": "rust",
   "version": ""
  }
 },
 "nbformat": 4,
 "nbformat_minor": 5
}
